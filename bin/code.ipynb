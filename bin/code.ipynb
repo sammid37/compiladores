{
 "cells": [
  {
   "cell_type": "code",
   "execution_count": null,
   "metadata": {},
   "outputs": [],
   "source": [
    "def print_token_table(tokens):\n",
    "  print(\"{:<10} {:<15} {:<10}\".format(\"Token\", \"Classificação\", \"Linha\"))\n",
    "  print(\"=\"*35)\n",
    "  for token in tokens:\n",
    "    print(\"{:<10} {:<15} {:<10}\".format(token[1], token[0], token[2]))"
   ]
  }
 ],
 "metadata": {
  "language_info": {
   "name": "python"
  }
 },
 "nbformat": 4,
 "nbformat_minor": 2
}
