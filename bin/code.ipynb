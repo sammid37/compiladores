{
 "cells": [
  {
   "cell_type": "code",
   "execution_count": null,
   "metadata": {},
   "outputs": [],
   "source": [
    "def print_token_table(tokens):\n",
    "  print(\"{:<10} {:<15} {:<10}\".format(\"Token\", \"Classificação\", \"Linha\"))\n",
    "  print(\"=\"*35)\n",
    "  for token in tokens:\n",
    "    print(\"{:<10} {:<15} {:<10}\".format(token[1], token[0], token[2]))"
   ]
  },
  {
   "cell_type": "code",
   "execution_count": null,
   "metadata": {},
   "outputs": [],
   "source": [
    "#  TODO: método para gerar a saída do Analisador Sintático //enthony\n",
    "    def gerar_saida(self): \n",
    "      with open(self.output_file, 'w') as csvfile: #fazendo a escrita do arquivo de saída\n",
    "        writer = csv.writer(csvfile) #criando um objeto para escrita\n",
    "        writer.writerow(['Classificação', 'Token', 'Linha']) #escrevendo o cabeçalho\n",
    "\n",
    "      for token in self.tokens: #percorrendo a lista de tokens\n",
    "        writer.writerow([token.type, token.value, token.line]) #escrevendo os tokens no arquivo de saída"
   ]
  }
 ],
 "metadata": {
  "language_info": {
   "name": "python"
  }
 },
 "nbformat": 4,
 "nbformat_minor": 2
}
